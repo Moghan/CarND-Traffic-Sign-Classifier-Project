{
 "cells": [
  {
   "cell_type": "markdown",
   "metadata": {},
   "source": [
    "# Self-Driving Car Engineer Nanodegree\n",
    "\n",
    "## Deep Learning\n",
    "\n",
    "## Project: Build a Traffic Sign Recognition Classifier\n",
    "\n",
    "In this notebook, a template is provided for you to implement your functionality in stages, which is required to successfully complete this project. If additional code is required that cannot be included in the notebook, be sure that the Python code is successfully imported and included in your submission if necessary. \n",
    "\n",
    "> **Note**: Once you have completed all of the code implementations, you need to finalize your work by exporting the iPython Notebook as an HTML document. Before exporting the notebook to html, all of the code cells need to have been run so that reviewers can see the final implementation and output. You can then export the notebook by using the menu above and navigating to  \\n\",\n",
    "    \"**File -> Download as -> HTML (.html)**. Include the finished document along with this notebook as your submission. \n",
    "\n",
    "In addition to implementing code, there is a writeup to complete. The writeup should be completed in a separate file, which can be either a markdown file or a pdf document. There is a [write up template](https://github.com/udacity/CarND-Traffic-Sign-Classifier-Project/blob/master/writeup_template.md) that can be used to guide the writing process. Completing the code template and writeup template will cover all of the [rubric points](https://review.udacity.com/#!/rubrics/481/view) for this project.\n",
    "\n",
    "The [rubric](https://review.udacity.com/#!/rubrics/481/view) contains \"Stand Out Suggestions\" for enhancing the project beyond the minimum requirements. The stand out suggestions are optional. If you decide to pursue the \"stand out suggestions\", you can include the code in this Ipython notebook and also discuss the results in the writeup file.\n",
    "\n",
    "\n",
    ">**Note:** Code and Markdown cells can be executed using the **Shift + Enter** keyboard shortcut. In addition, Markdown cells can be edited by typically double-clicking the cell to enter edit mode."
   ]
  },
  {
   "cell_type": "markdown",
   "metadata": {},
   "source": [
    "---\n",
    "## Step 0: Load The Data"
   ]
  },
  {
   "cell_type": "code",
   "execution_count": 1,
   "metadata": {
    "collapsed": false
   },
   "outputs": [],
   "source": [
    "# Load pickled data\n",
    "import pickle\n",
    "from pandas.io.parsers import read_csv\n",
    "\n",
    "training_file = \"traffic-signs-data/train.p\"\n",
    "testing_file = \"traffic-signs-data/test.p\"\n",
    "\n",
    "with open(training_file, mode='rb') as f:\n",
    "    train = pickle.load(f)\n",
    "with open(testing_file, mode='rb') as f:\n",
    "    test = pickle.load(f)\n",
    "    \n",
    "X_train, y_train = train['features'], train['labels']\n",
    "X_test, y_test = test['features'], test['labels']\n",
    "\n",
    "# Load id -> signname mapping file\n",
    "signnames = read_csv(\"signnames.csv\").values[:, 1]"
   ]
  },
  {
   "cell_type": "markdown",
   "metadata": {},
   "source": [
    "---\n",
    "\n",
    "## Step 1: Dataset Summary & Exploration\n",
    "\n",
    "The pickled data is a dictionary with 4 key/value pairs:\n",
    "\n",
    "- `'features'` is a 4D array containing raw pixel data of the traffic sign images, (num examples, width, height, channels).\n",
    "- `'labels'` is a 1D array containing the label/class id of the traffic sign. The file `signnames.csv` contains id -> name mappings for each id.\n",
    "- `'sizes'` is a list containing tuples, (width, height) representing the the original width and height the image.\n",
    "- `'coords'` is a list containing tuples, (x1, y1, x2, y2) representing coordinates of a bounding box around the sign in the image. **THESE COORDINATES ASSUME THE ORIGINAL IMAGE. THE PICKLED DATA CONTAINS RESIZED VERSIONS (32 by 32) OF THESE IMAGES**\n",
    "\n",
    "Complete the basic data summary below. Use python, numpy and/or pandas methods to calculate the data summary rather than hard coding the results. For example, the [pandas shape method](http://pandas.pydata.org/pandas-docs/stable/generated/pandas.DataFrame.shape.html) might be useful for calculating some of the summary results. "
   ]
  },
  {
   "cell_type": "markdown",
   "metadata": {},
   "source": [
    "### Provide a Basic Summary of the Data Set Using Python, Numpy and/or Pandas"
   ]
  },
  {
   "cell_type": "code",
   "execution_count": 2,
   "metadata": {
    "collapsed": false
   },
   "outputs": [
    {
     "name": "stdout",
     "output_type": "stream",
     "text": [
      "Number of training examples = 39209\n",
      "Number of testing examples = 39209\n",
      "Image data shape = (32, 32, 3)\n",
      "Train set shape = (39209, 32, 32, 3)\n",
      "Number of classes = 43\n",
      "16\n",
      "1\n",
      "38\n",
      "33\n",
      "11\n"
     ]
    }
   ],
   "source": [
    "### Replace each question mark with the appropriate value.\n",
    "\n",
    "# TODO: Number of training examples\n",
    "n_train = len(X_train)\n",
    "\n",
    "# TODO: Number of testing examples.\n",
    "n_test = len(X_train)\n",
    "\n",
    "# TODO: What's the shape of an traffic sign image?\n",
    "image_shape = X_train[0].shape\n",
    "train_shape = X_train.shape\n",
    "\n",
    "# TODO: How many unique classes/labels there are in the dataset.\n",
    "n_classes = len(set(y_test))\n",
    "\n",
    "print(\"Number of training examples =\", n_train)\n",
    "print(\"Number of testing examples =\", n_test)\n",
    "print(\"Image data shape =\", image_shape)\n",
    "print(\"Train set shape =\", train_shape)\n",
    "print(\"Number of classes =\", n_classes)\n",
    "for i in range(5):\n",
    "    print(y_test[i])"
   ]
  },
  {
   "cell_type": "markdown",
   "metadata": {},
   "source": [
    "### Include an exploratory visualization of the dataset"
   ]
  },
  {
   "cell_type": "markdown",
   "metadata": {},
   "source": [
    "Visualize the German Traffic Signs Dataset using the pickled file(s). This is open ended, suggestions include: plotting traffic sign images, plotting the count of each sign, etc.\n",
    "\n",
    "The [Matplotlib](http://matplotlib.org/) [examples](http://matplotlib.org/examples/index.html) and [gallery](http://matplotlib.org/gallery.html) pages are a great resource for doing visualizations in Python.\n",
    "\n",
    "**NOTE:** It's recommended you start with something simple first. If you wish to do more, come back to it after you've completed the rest of the sections."
   ]
  },
  {
   "cell_type": "code",
   "execution_count": null,
   "metadata": {
    "collapsed": false
   },
   "outputs": [],
   "source": [
    "### Data exploration visualization goes here.\n",
    "### Feel free to use as many code cells as needed.\n",
    "import matplotlib.pyplot as plt\n",
    "import numpy as np\n",
    "import random\n",
    "\n",
    "# Visualizations will be shown in the notebook.\n",
    "%matplotlib inline\n",
    "\n",
    "sign_classes, index_start_of_classes, class_counts = np.unique(y_train, return_index = True, return_counts = True)\n",
    "\n",
    "for sign_class, class_index_start, class_count in zip(sign_classes, index_start_of_classes, class_counts):\n",
    "    fig = plt.figure(figsize = (6, 1))\n",
    "    fig.subplots_adjust(left = 0, right = 1.5, bottom = 0, top = 1.5, hspace = 0.05, wspace = 0.05)\n",
    "    \n",
    "    # Since the images is ordered by class, this line creates 10 random numbers in range (class_index_start , class_index_start + class_count)\n",
    "    # to generate the indices for 10 random images. \n",
    "    random_indices = random.sample(range(class_index_start, class_index_start + class_count), 10)\n",
    "    \n",
    "    for i in range(10):\n",
    "        axis = fig.add_subplot(1, 10, i+1, xticks=[], yticks=[])\n",
    "        if i == 0:\n",
    "            axis.text(x = -160, y = 5, s = \"Class %i: %s\\n\\n%s images\" % (sign_class, signnames[sign_class], str(class_count)), rotation = 0, va = \"top\")\n",
    "        axis.imshow(X_train[random_indices[i]])\n",
    "\n",
    "    plt.show()"
   ]
  },
  {
   "cell_type": "markdown",
   "metadata": {},
   "source": [
    "----\n",
    "\n",
    "## Step 2: Design and Test a Model Architecture\n",
    "\n",
    "Design and implement a deep learning model that learns to recognize traffic signs. Train and test your model on the [German Traffic Sign Dataset](http://benchmark.ini.rub.de/?section=gtsrb&subsection=dataset).\n",
    "\n",
    "There are various aspects to consider when thinking about this problem:\n",
    "\n",
    "- Neural network architecture\n",
    "- Play around preprocessing techniques (normalization, rgb to grayscale, etc)\n",
    "- Number of examples per label (some have more than others).\n",
    "- Generate fake data.\n",
    "\n",
    "Here is an example of a [published baseline model on this problem](http://yann.lecun.com/exdb/publis/pdf/sermanet-ijcnn-11.pdf). It's not required to be familiar with the approach used in the paper but, it's good practice to try to read papers like these.\n",
    "\n",
    "**NOTE:** The LeNet-5 implementation shown in the [classroom](https://classroom.udacity.com/nanodegrees/nd013/parts/fbf77062-5703-404e-b60c-95b78b2f3f9e/modules/6df7ae49-c61c-4bb2-a23e-6527e69209ec/lessons/601ae704-1035-4287-8b11-e2c2716217ad/concepts/d4aca031-508f-4e0b-b493-e7b706120f81) at the end of the CNN lesson is a solid starting point. You'll have to change the number of classes and possibly the preprocessing, but aside from that it's plug and play!"
   ]
  },
  {
   "cell_type": "markdown",
   "metadata": {},
   "source": [
    "### Pre-process the Data Set (normalization, grayscale, etc.)"
   ]
  },
  {
   "cell_type": "markdown",
   "metadata": {},
   "source": [
    "\n",
    "Use the code cell (or multiple code cells, if necessary) to implement the first step of your project."
   ]
  },
  {
   "cell_type": "code",
   "execution_count": 3,
   "metadata": {
    "collapsed": false
   },
   "outputs": [
    {
     "name": "stdout",
     "output_type": "stream",
     "text": [
      "no file found. preprocess started...\n",
      "create new file\n",
      "number of X_test_pre 12630\n",
      "number of X_train_pre 39209\n"
     ]
    },
    {
     "data": {
      "image/png": "[encoded data removed]",
      "text/plain": [
       "<matplotlib.figure.Figure at 0x22154a38f28>"
      ]
     },
     "metadata": {},
     "output_type": "display_data"
    },
    {
     "data": {
      "image/png": "[encoded data removed]",
      "text/plain": [
       "<matplotlib.figure.Figure at 0x2210001b198>"
      ]
     },
     "metadata": {},
     "output_type": "display_data"
    },
    {
     "data": {
      "image/png": "[encoded data removed]",
      "text/plain": [
       "<matplotlib.figure.Figure at 0x22100102ba8>"
      ]
     },
     "metadata": {},
     "output_type": "display_data"
    },
    {
     "data": {
      "image/png": "[encoded data removed]",
      "text/plain": [
       "<matplotlib.figure.Figure at 0x2210017deb8>"
      ]
     },
     "metadata": {},
     "output_type": "display_data"
    },
    {
     "data": {
      "image/png": "[encoded data removed]",
      "text/plain": [
       "<matplotlib.figure.Figure at 0x22154a6c208>"
      ]
     },
     "metadata": {},
     "output_type": "display_data"
    },
    {
     "name": "stdout",
     "output_type": "stream",
     "text": [
      "--------------------------------------------------\n"
     ]
    },
    {
     "data": {
      "image/png": "[encoded data removed]",
      "text/plain": [
       "<matplotlib.figure.Figure at 0x221000fe940>"
      ]
     },
     "metadata": {},
     "output_type": "display_data"
    },
    {
     "data": {
      "image/png": "[encoded data removed]",
      "text/plain": [
       "<matplotlib.figure.Figure at 0x22100142be0>"
      ]
     },
     "metadata": {},
     "output_type": "display_data"
    },
    {
     "data": {
      "image/png": "[encoded data removed]",
      "text/plain": [
       "<matplotlib.figure.Figure at 0x2210024d470>"
      ]
     },
     "metadata": {},
     "output_type": "display_data"
    },
    {
     "data": {
      "image/png": "[encoded data removed]",
      "text/plain": [
       "<matplotlib.figure.Figure at 0x221002c5f60>"
      ]
     },
     "metadata": {},
     "output_type": "display_data"
    },
    {
     "data": {
      "image/png": "[encoded data removed]",
      "text/plain": [
       "<matplotlib.figure.Figure at 0x221001eee48>"
      ]
     },
     "metadata": {},
     "output_type": "display_data"
    }
   ],
   "source": [
    "import matplotlib.pyplot as plt\n",
    "import numpy as np\n",
    "import cv2\n",
    "import pickle\n",
    "import os\n",
    "\n",
    "from skimage import exposure\n",
    "import warnings \n",
    "\n",
    "# from sklearn.model_selection import train_test_split\n",
    "# # Split from train data to create a set of validation data\n",
    "# # The split is made randomly and renders the remaining train dataset shuffled.\n",
    "# X_train, X_validation, y_train, y_validation = train_test_split(X_train, y_train, test_size=0.20)\n",
    "\n",
    "def grayscale_image(img):\n",
    "    # Took this function from P1 (Lane finder project)\n",
    "    \"\"\"Applies the Grayscale transform\n",
    "    This will return an image with only one color channel\n",
    "    but NOTE: to see the returned image as grayscale\n",
    "    you should call plt.imshow(gray, cmap='gray')\"\"\"\n",
    "    return cv2.cvtColor(img, cv2.COLOR_RGB2GRAY)\n",
    "\n",
    "def grayscale_dataset(X):\n",
    "    \"\"\" Returns a new set with dimansion (?, 32, 32, 1)\"\"\"\n",
    "    X_temp = np.empty([0, 32, 32, 1], dtype = np.int32)\n",
    "\n",
    "    for i in range(X.shape[0]):\n",
    "        gray = grayscale_image(X[i])\n",
    "        gray = gray.reshape(gray.shape + (1,))\n",
    "        X_temp = np.append(X_temp, [gray[:, :, :1]], axis = 0)\n",
    "\n",
    "    return X_temp\n",
    "\n",
    "def normalize_dataset(X):\n",
    "    X = ((X-128) / 128.).astype(np.float32)\n",
    "#     X = (X / 255.).astype(np.float32) # Using this makes the images look much better...?\n",
    "\n",
    "    return X\n",
    "\n",
    "def preprocess_dataset(X):\n",
    "    X = grayscale_dataset(X)\n",
    "    X = normalize_dataset(X)\n",
    "   \n",
    "    return X\n",
    " \n",
    "    \n",
    "\n",
    "# X_T = normalize_dataset(X_T)\n",
    "\n",
    "# def load_or_preprocess_all_datasets():\n",
    "#     import os\n",
    "# import pickle\n",
    "\n",
    "# ------------------------------------------------------------------\n",
    "# # Load pickled data\n",
    "# import pickle\n",
    "# from pandas.io.parsers import read_csv\n",
    "\n",
    "# training_file = \"traffic-signs-data/train.p\"\n",
    "# testing_file = \"traffic-signs-data/test.p\"\n",
    "\n",
    "# with open(training_file, mode='rb') as f:\n",
    "#     train = pickle.load(f)\n",
    "# with open(testing_file, mode='rb') as f:\n",
    "#     test = pickle.load(f)\n",
    "    \n",
    "# X_train, y_train = train['features'], train['labels']\n",
    "# X_test, y_test = test['features'], test['labels']\n",
    "# ------------------------------------------------------------------\n",
    "\n",
    "def read_pickle(file_path):\n",
    "#     path = 'preprocessed_traffic-signs-data/'\n",
    "#     preprocessed_train_file = path + 'preprocessed_train.p'\n",
    "#     preprocessed_test_file = path + 'preprocessed_test.p'\n",
    "    \n",
    "    if os.path.isfile(file_path):\n",
    "        with open(file_path, \"rb\") as f:\n",
    "            try:\n",
    "                print(\"file found and loaded\")\n",
    "                return pickle.load(f)\n",
    "            except StandardError: # so many things could go wrong, can't be more specific.\n",
    "                pass\n",
    "    \n",
    "    return False\n",
    "\n",
    "\n",
    "\n",
    "def acquire_preprocessed_data():\n",
    "    global test_preprocessed\n",
    "    \n",
    "    path = 'preprocessed_traffic-signs-data/'\n",
    "    preprocessed_data_file = path + 'preprocessed_features.p'\n",
    "#     preprocessed_test_file = path + 'preprocessed_test.p'\n",
    "    \n",
    "    preprocessed_data = read_pickle(preprocessed_data_file)\n",
    "    if(preprocessed_data):\n",
    "        print('file found and loaded')\n",
    "    else:\n",
    "        print('no file found. preprocess started...')\n",
    "        X_test_preprocessed = preprocess_dataset(X_test)\n",
    "        X_train_preprocessed = preprocess_dataset(X_train)\n",
    "        test_preprocessed = {\"features\":X_test_preprocessed, 'labels':y_test}\n",
    "        train_preprocessed = {\"features\":X_train_preprocessed, 'labels':y_train}\n",
    "        preprocessed_data = {'test':test_preprocessed, 'train':train_preprocessed}\n",
    "        \n",
    "        print('create new file')    \n",
    "        with open(preprocessed_data_file, \"wb\") as f:\n",
    "            pickle.dump(preprocessed_data, f)\n",
    "        \n",
    "#     print('number of test preprocessed %i' % preprocessed['features'].shape[0])\n",
    "    \n",
    "    return preprocessed_data\n",
    "\n",
    "\n",
    "# def read_or_new_pickle():\n",
    "    \n",
    "    \n",
    "#     path = 'preprocessed_traffic-signs-data/'\n",
    "#     preprocessed_train_file = path + 'preprocessed_train.p'\n",
    "#     preprocessed_test_file = path + 'preprocessed_test.p'\n",
    "    \n",
    "#     if os.path.isfile(preprocessed_test_file):\n",
    "#         with open(preprocessed_test_file, \"rb\") as f:\n",
    "#             try:\n",
    "#                 print(\"file found and loaded\")\n",
    "#                 return pickle.load(f)\n",
    "#             except StandardError: # so many things could go wrong, can't be more specific.\n",
    "#                 pass\n",
    "    \n",
    "#     print(\"no file found. preprocess started.\")\n",
    "#     X_test_preprocessed = preprocess_dataset(X_test)\n",
    "#     y_test_preprocessed = preprocess_dataset(y_test)\n",
    "    \n",
    "#     test_preprocessed = {\"features\":X_test_preprocessed, 'labels':y_test_preprocessed}\n",
    "        \n",
    "#     print('create new file')\n",
    "#     with open(preprocessed_test_file, \"wb\") as f:\n",
    "#         pickle.dump(test_preprocessed, f)\n",
    "        \n",
    "#     return test_processed\n",
    "    \n",
    "#     with open(training_file, mode='rb') as f:\n",
    "#     train = pickle.load(f)\n",
    "# with open(testing_file, mode='rb') as f:\n",
    "#     test = pickle.load(f)\n",
    "    \n",
    "    \n",
    "# X_T = X_validation\n",
    "\n",
    "preprocessed_data = acquire_preprocessed_data()\n",
    "test_prep = preprocessed_data['test']\n",
    "train_prep = preprocessed_data['train']\n",
    "X_test_prep = test_prep['features']\n",
    "X_train_prep = train_prep['features']\n",
    "y_test_prep = test_prep['labels']\n",
    "y_train_prep = train_prep['labels']\n",
    "\n",
    "print('number of X_test_pre %i' % X_test_prep.shape[0])\n",
    "print('number of X_train_pre %i' % X_train_prep.shape[0])\n",
    "\n",
    "for i in range(5):\n",
    "    img = X_test_prep[i]\n",
    "    img = np.reshape(img, (32,32))\n",
    "#     plt.imshow(img)\n",
    "    plt.imshow(img, cmap = plt.get_cmap('gray'))\n",
    "#     print(img)\n",
    "    plt.show()\n",
    "\n",
    "print('--------------------------------------------------')\n",
    "\n",
    "for i in range(5):\n",
    "    img = X_train_prep[i]\n",
    "    img = np.reshape(img, (32,32))\n",
    "#     plt.imshow(img)\n",
    "    plt.imshow(img, cmap = plt.get_cmap('gray'))\n",
    "#     print(img)\n",
    "    plt.show()\n",
    "    "
   ]
  },
  {
   "cell_type": "markdown",
   "metadata": {},
   "source": [
    "### Split Data into Training, Validation and Testing Sets"
   ]
  },
  {
   "cell_type": "code",
   "execution_count": null,
   "metadata": {
    "collapsed": true
   },
   "outputs": [],
   "source": [
    "### Split the data into training/validation/testing sets here.\n",
    "### Feel free to use as many code cells as needed.\n",
    "\n",
    "from sklearn.model_selection import train_test_split\n",
    "# Split from train data to create a set of validation data\n",
    "# The split is made randomly and renders the remaining train dataset shuffled.\n",
    "X_train_prep, X_validation_prep, y_train_prep, y_validation_prep = train_test_split(X_train_prep, y_train_prep, test_size=0.20)\n"
   ]
  },
  {
   "cell_type": "markdown",
   "metadata": {},
   "source": [
    "### Model Architecture"
   ]
  },
  {
   "cell_type": "code",
   "execution_count": null,
   "metadata": {
    "collapsed": true
   },
   "outputs": [],
   "source": [
    "### Define your architecture here.\n",
    "### Feel free to use as many code cells as needed.\n",
    "\n",
    "import tensorflow as tf\n",
    "from tensorflow.contrib.layers import flatten\n",
    "from sklearn.utils import shuffle\n",
    "\n",
    "EPOCHS = 10\n",
    "BATCH_SIZE = 128\n",
    "\n",
    "def LeNet(x):    \n",
    "    # Arguments used for tf.truncated_normal, randomly defines variables for the weights and biases for each layer\n",
    "    mu = 0\n",
    "    sigma = 0.1\n",
    "    \n",
    "    # SOLUTION: Layer 1: Convolutional. Input = 32x32x1. Output = 28x28x6.\n",
    "    \n",
    "    #input: 32x32x3\n",
    "    conv1_3x3_W = tf.Variable(tf.truncated_normal(shape=(3, 3, 3, 16), mean = mu, stddev = sigma))\n",
    "    conv1_3x3_b = tf.Variable(tf.zeros(16))\n",
    "    conv1   = tf.nn.conv2d(x, conv1_3x3_W, strides=[1, 1, 1, 1], padding='SAME') + conv1_3x3_b\n",
    "    conv1 = tf.nn.relu(conv1)\n",
    "    #output: 32x32x16\n",
    "    \n",
    "    conv2_3x3_W = tf.Variable(tf.truncated_normal(shape=(3, 3, 16, 16), mean = mu, stddev = sigma))\n",
    "    conv2_3x3_b = tf.Variable(tf.zeros(16))\n",
    "    conv2   = tf.nn.conv2d(conv1, conv2_3x3_W, strides=[1, 1, 1, 1], padding='SAME') + conv2_3x3_b\n",
    "    conv2 = tf.nn.relu(conv2)\n",
    "    #output: 32x32x16\n",
    "    \n",
    "    maxpool1 = tf.nn.max_pool( conv2, ksize = [1,2,2,1], strides = [1,2,2,1], padding='SAME')\n",
    "    # output: 16x16x16\n",
    "    \n",
    "    conv3_3x3_W = tf.Variable(tf.truncated_normal(shape=(3, 3, 16, 32), mean = mu, stddev = sigma))\n",
    "    conv3_3x3_b = tf.Variable(tf.zeros(32))\n",
    "    conv3   = tf.nn.conv2d(maxpool1, conv3_3x3_W, strides=[1, 1, 1, 1], padding='SAME') + conv3_3x3_b\n",
    "    conv3 = tf.nn.relu(conv3)\n",
    "    #output: 16x16x32\n",
    "    \n",
    "    conv4_3x3_W = tf.Variable(tf.truncated_normal(shape=(3, 3, 32, 64), mean = mu, stddev = sigma))\n",
    "    conv4_3x3_b = tf.Variable(tf.zeros(64))\n",
    "    conv4   = tf.nn.conv2d(conv3, conv4_3x3_W, strides=[1, 1, 1, 1], padding='SAME') + conv4_3x3_b\n",
    "    conv4 = tf.nn.relu(conv4)\n",
    "    \n",
    "    maxpool2 = tf.nn.max_pool( conv4, ksize = [1,2,2,1], strides = [1,2,2,1], padding='SAME')\n",
    "    # output 8x8x64\n",
    "    print(maxpool2.get_shape())\n",
    "    \n",
    "    maxpool1_flat = flatten(maxpool1)\n",
    "    \n",
    "    maxpool2_flat = flatten(maxpool2)\n",
    "    \n",
    "    # SOLUTION: Flatten. Input 8x8x64. Output = 4096\n",
    "    fc0   = tf.concat(1, [maxpool1_flat, maxpool2_flat])\n",
    "    print(fc0.get_shape())\n",
    "#     inception2 = tf.nn.relu(tf.concat(3, [conv2_1, conv2_2,conv2_3,conv2_4]))\n",
    "    \n",
    "    \n",
    "    # SOLUTION: Layer 3: Fully Connected. Input = 432. Output = 120.\n",
    "    fc1_W = tf.Variable(tf.truncated_normal(shape=(8192, 120), mean = mu, stddev = sigma))\n",
    "    fc1_b = tf.Variable(tf.zeros(120))\n",
    "    fc1   = tf.matmul(fc0, fc1_W) + fc1_b\n",
    "    \n",
    "    # SOLUTION: Activation.\n",
    "    fc1    = tf.nn.relu(fc1)\n",
    "    fc1 = tf.nn.dropout(fc1, keep_prob)\n",
    "\n",
    "    # SOLUTION: Layer 4: Fully Connected. Input = 120. Output = 43.\n",
    "    fc2_W  = tf.Variable(tf.truncated_normal(shape=(120, 43), mean = mu, stddev = sigma))\n",
    "    fc2_b  = tf.Variable(tf.zeros(43))\n",
    "    logits = tf.matmul(fc1, fc2_W) + fc2_b\n",
    "    \n",
    "#    \n",
    "    return logits\n",
    "\n"
   ]
  },
  {
   "cell_type": "code",
   "execution_count": null,
   "metadata": {
    "collapsed": false
   },
   "outputs": [],
   "source": [
    "# features and labels\n",
    "x = tf.placeholder(tf.float32, (None, 32, 32, 3))\n",
    "y = tf.placeholder(tf.int32, (None))\n",
    "one_hot_y = tf.one_hot(y, n_classes)\n",
    "print(\"Number of classes =\", n_classes)\n",
    "\n",
    "# training pipeline\n",
    "rate = 0.0001\n",
    "keep_prob = tf.placeholder(tf.float32) # probability to keep units\n",
    "\n",
    "logits = LeNet(x)\n",
    "cross_entropy = tf.nn.softmax_cross_entropy_with_logits(logits, one_hot_y)\n",
    "loss_operation = tf.reduce_mean(cross_entropy)\n",
    "optimizer = tf.train.AdamOptimizer(learning_rate = rate)\n",
    "training_operation = optimizer.minimize(loss_operation)\n",
    "print(\"done\")\n",
    "\n",
    "\n",
    "# model evaluation\n",
    "correct_prediction = tf.equal(tf.argmax(logits, 1), tf.argmax(one_hot_y, 1))\n",
    "accuracy_operation = tf.reduce_mean(tf.cast(correct_prediction, tf.float32))\n",
    "\n",
    "# prediction\n",
    "prediction = tf.argmax(logits,1)\n",
    "\n",
    "softmax = tf.nn.softmax(logits)\n",
    "\n",
    "# labels = tf.argmax(one_hot_y, 1)\n",
    "topFiver = tf.nn.top_k(softmax, 5)\n",
    "\n",
    "saver = tf.train.Saver()\n",
    "\n",
    "def predict(X_data):\n",
    "    sess = tf.get_default_session()\n",
    "    predictions = sess.run(prediction, feed_dict={x: X_data, keep_prob: 1.0})\n",
    "    return predictions\n",
    "\n",
    "def evaluate(X_data, y_data):\n",
    "    num_examples = len(X_data)\n",
    "    total_accuracy = 0\n",
    "    sess = tf.get_default_session()\n",
    "    for offset in range(0, num_examples, BATCH_SIZE):\n",
    "        batch_x, batch_y = X_data[offset:offset+BATCH_SIZE], y_data[offset:offset+BATCH_SIZE]\n",
    "        accuracy = sess.run(accuracy_operation, feed_dict={x: batch_x, y: batch_y, keep_prob: 1.0})\n",
    "        total_accuracy += (accuracy * len(batch_x))\n",
    "    return total_accuracy / num_examples\n",
    "\n",
    "def top_5(x_data, y_data):\n",
    "    sess = tf.get_default_session()\n",
    "    \n",
    "    top_5_prob = sess.run(topFiver, feed_dict={x: x_data, keep_prob: 1.0})\n",
    "\n",
    "    return top_5_prob\n",
    "    "
   ]
  },
  {
   "cell_type": "markdown",
   "metadata": {},
   "source": [
    "### Train, Validate and Test the Model"
   ]
  },
  {
   "cell_type": "markdown",
   "metadata": {},
   "source": [
    "A validation set can be used to assess how well the model is performing. A low accuracy on the training and validation\n",
    "sets imply underfitting. A high accuracy on the test set but low accuracy on the validation set implies overfitting."
   ]
  },
  {
   "cell_type": "code",
   "execution_count": null,
   "metadata": {
    "collapsed": false
   },
   "outputs": [],
   "source": [
    "### Train your model here.\n",
    "### Calculate and report the accuracy on the training and validation set.\n",
    "### Once a final model architecture is selected, \n",
    "### the accuracy on the test set should be calculated and reported as well.\n",
    "### Feel free to use as many code cells as needed.\n",
    "\n",
    "\n",
    "with tf.Session() as sess:\n",
    "    sess.run(tf.global_variables_initializer())\n",
    "    num_examples = len(X_train)\n",
    "    \n",
    "    print(\"Training...\")\n",
    "    print()\n",
    "    for i in range(EPOCHS):\n",
    "        X_train_prep, y_train_prep = shuffle(X_train_prep, y_train_prep)\n",
    "        for offset in range(0, num_examples, BATCH_SIZE):\n",
    "            end = offset + BATCH_SIZE\n",
    "            batch_x, batch_y = X_train_prep[offset:end], y_train_prep[offset:end]\n",
    "            sess.run(training_operation, feed_dict={x: batch_x, y: batch_y, keep_prob: 0.8})\n",
    "            \n",
    "        validation_accuracy = evaluate(X_validation_prep, y_validation_prep)\n",
    "        print(\"EPOCH {} ...\".format(i+1))\n",
    "        print(\"Validation Accuracy = {:.3f}\".format(validation_accuracy))\n",
    "        print()\n",
    "        \n",
    "    saver.save(sess, './lenet')\n",
    "    print(\"Model saved\")"
   ]
  },
  {
   "cell_type": "code",
   "execution_count": null,
   "metadata": {
    "collapsed": false
   },
   "outputs": [],
   "source": [
    "with tf.Session() as sess:\n",
    "    saver.restore(sess, tf.train.latest_checkpoint('.'))\n",
    "\n",
    "    test_accuracy = evaluate(X_test_prep, y_test_prep)\n",
    "    print(\"Test Accuracy = {:.3f}\".format(test_accuracy))"
   ]
  },
  {
   "cell_type": "code",
   "execution_count": null,
   "metadata": {
    "collapsed": false
   },
   "outputs": [],
   "source": [
    "# with tf.Session() as sess:\n",
    "#     saver.restore(sess, tf.train.latest_checkpoint('.'))\n",
    "\n",
    "#     test_accuracy = evaluate(X_custom_prep, y_custom)\n",
    "#     print(\"Test Accuracy = {:.3f}\".format(test_accuracy))"
   ]
  },
  {
   "cell_type": "markdown",
   "metadata": {},
   "source": [
    "---\n",
    "\n",
    "## Step 3: Test a Model on New Images"
   ]
  },
  {
   "cell_type": "markdown",
   "metadata": {},
   "source": [
    "### Load and Output the Images"
   ]
  },
  {
   "cell_type": "code",
   "execution_count": null,
   "metadata": {
    "collapsed": false
   },
   "outputs": [],
   "source": [
    "import matplotlib.pyplot as plt\n",
    "import matplotlib.image as mpimg\n",
    "import numpy as np\n",
    "\n",
    "y_c = np.array([11,25,38,22,9,18,32,13,40,2,1])\n",
    "\n",
    "X_c = np.empty([0, 32, 32, 3], dtype = np.int32)\n",
    "\n",
    "for i in range(11):\n",
    "    img_file = 'images/' + str(i+1) +'.png'\n",
    "    img_arr = mpimg.imread(img_file)\n",
    "    \n",
    "    X_c = np.append(X_c, [img_arr[:,:,:3]], axis=0)\n",
    "    \n",
    "fig = plt.figure(figsize = (6, 1))\n",
    "fig.subplots_adjust(left = 0, right = 1.5, bottom = 0, top = 1.5, hspace = 0.05, wspace = 0.05)\n",
    "    \n",
    "for i in range(11):\n",
    "    axis = fig.add_subplot(1, 11, i+1, xticks=[], yticks=[])\n",
    "    if i == 0:\n",
    "        axis.text(x = -160, y = 5, s = \"11 images of german traffic signs\\nfound on the internet.\", rotation = 0, va = \"top\")\n",
    "    axis.imshow(X_c[i])\n",
    "\n",
    "plt.show()"
   ]
  },
  {
   "cell_type": "markdown",
   "metadata": {},
   "source": [
    "### Predict the Sign Type for Each Image"
   ]
  },
  {
   "cell_type": "code",
   "execution_count": null,
   "metadata": {
    "collapsed": false
   },
   "outputs": [],
   "source": [
    "### Run the predictions here and use the model to output the prediction for each image.\n",
    "### Make sure to pre-process the images with the same pre-processing pipeline used earlier.\n",
    "### Feel free to use as many code cells as needed.\n",
    "\n",
    "with tf.Session() as sess:\n",
    "    saver.restore(sess, tf.train.latest_checkpoint('.'))\n",
    "\n",
    "    predictions = predict(X_c)\n",
    "    \n",
    "for prediction, image, correct_class in zip(predictions, X_c, y_c):\n",
    "    plt.figure(figsize=(1,1))\n",
    "    img = image.squeeze()\n",
    "    plt.imshow(img)\n",
    "    plt.show()\n",
    "    if prediction == correct_class:\n",
    "        print(\"Sign correctly predicted to be:%s\" % signnames[prediction])\n",
    "    else:\n",
    "        print(\"Sign mistaken to be:%s\" % signnames[prediction])\n",
    "        print(\"Correct class is:%s\" % signnames[correct_class])\n",
    "    \n",
    "    print(\"--------------------------\")"
   ]
  },
  {
   "cell_type": "markdown",
   "metadata": {},
   "source": [
    "### Analyze Performance\n",
    "\n",
    "Calculating the accuracy for these 11 new images just like when accuracy was measured for the validation and test sets.\n",
    "\n",
    "0 % accuracy does not sound right after 94 % on the test set. Examining the softmax values, its seems the network predicts toward the same classification for all 11 images. I tried running the code (for predictions and the top 5 softmax values) with some of the training data, and then it seemed to be working correctly. Either the network sucks, or more likely there is a bug somewhere."
   ]
  },
  {
   "cell_type": "code",
   "execution_count": null,
   "metadata": {
    "collapsed": false
   },
   "outputs": [],
   "source": [
    "### Calculate the accuracy for these 5 new images. \n",
    "### For example, if the model predicted 1 out of 5 signs correctly, it's 20% accurate on these new images.\n",
    "with tf.Session() as sess:\n",
    "    saver.restore(sess, tf.train.latest_checkpoint('.'))\n",
    "\n",
    "    test_accuracy = evaluate(X_custom_prep, y_custom)\n",
    "    print(\"Test Accuracy = {:.3f}\".format(test_accuracy))"
   ]
  },
  {
   "cell_type": "markdown",
   "metadata": {},
   "source": [
    "### Output Top 5 Softmax Probabilities For Each Image Found on the Web"
   ]
  },
  {
   "cell_type": "code",
   "execution_count": null,
   "metadata": {
    "collapsed": false
   },
   "outputs": [],
   "source": [
    "with tf.Session() as sess:\n",
    "    saver.restore(sess, tf.train.latest_checkpoint('.'))\n",
    "\n",
    "    top_5_prob, top_5_indices = top_5(X_custom_prep, y_custom)\n",
    "\n",
    "\n",
    "for probs, class_indices, image in zip(top_5_prob, top_5_indices, X_custom_prep):\n",
    "    plt.figure(figsize=(1,1))\n",
    "    img = image.squeeze()\n",
    "    plt.imshow(img)\n",
    "    plt.show()\n",
    "    for prob, class_indice in zip(probs, class_indices):\n",
    "        print(\"%0.2f percent probabilty of :%s\" % (prob, signnames[class_indice]))\n",
    "    \n",
    "    print(\"--------------------------\")\n"
   ]
  },
  {
   "cell_type": "markdown",
   "metadata": {},
   "source": [
    "> **Note**: Once you have completed all of the code implementations, you need to finalize your work by exporting the IPython Notebook as an HTML document. Before exporting the notebook to html, all of the code cells need to have been run. You can then export the notebook by using the menu above and navigating to  \\n\",\n",
    "    \"**File -> Download as -> HTML (.html)**. Include the finished document along with this notebook as your submission. "
   ]
  },
  {
   "cell_type": "markdown",
   "metadata": {},
   "source": [
    "### Project Writeup\n",
    "\n",
    "Once you have completed the code implementation, document your results in a project writeup using this [template](https://github.com/udacity/CarND-Traffic-Sign-Classifier-Project/blob/master/writeup_template.md) as a guide. The writeup can be in a markdown or pdf file. "
   ]
  }
 ],
 "metadata": {
  "anaconda-cloud": {},
  "kernelspec": {
   "display_name": "Python 3",
   "language": "python",
   "name": "python3"
  },
  "language_info": {
   "codemirror_mode": {
    "name": "ipython",
    "version": 3
   },
   "file_extension": ".py",
   "mimetype": "text/x-python",
   "name": "python",
   "nbconvert_exporter": "python",
   "pygments_lexer": "ipython3",
   "version": "3.5.2"
  },
  "widgets": {
   "state": {},
   "version": "1.1.2"
  }
 },
 "nbformat": 4,
 "nbformat_minor": 1
}
